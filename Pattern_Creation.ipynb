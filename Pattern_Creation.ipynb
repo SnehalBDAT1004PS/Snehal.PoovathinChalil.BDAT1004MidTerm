{
 "cells": [
  {
   "cell_type": "markdown",
   "metadata": {},
   "source": [
    "# Midterm - Data Programming"
   ]
  },
  {
   "attachments": {
    "Question%2023.png": {
     "image/png": "[encoded data removed]"
    }
   },
   "cell_type": "markdown",
   "metadata": {},
   "source": [
    "#### In a jupyter notebook solve the following question using python. Please upload the notebook to GitHub and provide the link submission box below.\n",
    "\n",
    "\n",
    "\n",
    "Develop a recursive function tough() that takes two nonnegative integer arguments and outputs a pattern as shown below. Hint: The first argument represents the indentation of the pattern, where the second argument -- always a pattern of 2 indicates the number *s in the longest line of *s in the pattern\n",
    "\n",
    "![Question%2023.png](attachment:Question%2023.png)"
   ]
  },
  {
   "cell_type": "code",
   "execution_count": 37,
   "metadata": {},
   "outputs": [
    {
     "name": "stdout",
     "output_type": "stream",
     "text": [
      "f(0,0)\n",
      "f(0,1)\n",
      "*\n",
      "f(0,2)\n",
      "*\n",
      "**\n",
      " *\n",
      "f(0,4)\n",
      "*\n",
      "**\n",
      " *\n",
      "****\n",
      " *\n",
      " **\n",
      "  *\n"
     ]
    }
   ],
   "source": [
    "def tough(spaces, number):\n",
    "    if number > 0:\n",
    "        tough(spaces, number // 2)  #print upper part of the pattern\n",
    "        print(\" \" * spaces + \"*\" * number)  #print current row of *'s\n",
    "        tough(spaces + 1, number // 2)  #print lower part of the pattern with required no.of spaces\n",
    "\n",
    "print(\"f(0,0)\")\n",
    "tough(0, 0)\n",
    "print(\"f(0,1)\")\n",
    "tough(0, 1)\n",
    "print(\"f(0,2)\")\n",
    "tough(0, 2)\n",
    "print(\"f(0,4)\")\n",
    "tough(0, 4)\n"
   ]
  }
 ],
 "metadata": {
  "kernelspec": {
   "display_name": "Python 3",
   "language": "python",
   "name": "python3"
  },
  "language_info": {
   "codemirror_mode": {
    "name": "ipython",
    "version": 3
   },
   "file_extension": ".py",
   "mimetype": "text/x-python",
   "name": "python",
   "nbconvert_exporter": "python",
   "pygments_lexer": "ipython3",
   "version": "3.8.3"
  }
 },
 "nbformat": 4,
 "nbformat_minor": 4
}
