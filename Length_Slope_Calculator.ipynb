{
 "cells": [
  {
   "cell_type": "markdown",
   "metadata": {},
   "source": [
    "# Midterm - Data Programming"
   ]
  },
  {
   "cell_type": "markdown",
   "metadata": {},
   "source": [
    "#### In a jupyter notebook solve the following question. Please upload the notebook to GitHub and provide the link submission box below.\n",
    "\n",
    "\n",
    "__int()__: Constructor that takes as input a pair of Point objects that represent the ends points of the line segment\n",
    "\n",
    "Length():: returns the length if the segment \n",
    "\n",
    "Slope() returns the slope of the segment of none if the slope is unbounded \n",
    "\n",
    " \n",
    ">>> p1 = Point(3,4)\n",
    "\n",
    ">>> p2 = Point()\n",
    "\n",
    ">>> s = Segment(p1,p2)\n",
    "\n",
    ">>> s.length()\n",
    "\n",
    "5.0\n",
    "\n",
    ">>> s.slope()\n",
    "\n",
    "0.75"
   ]
  },
  {
   "cell_type": "code",
   "execution_count": 10,
   "metadata": {},
   "outputs": [
    {
     "name": "stdout",
     "output_type": "stream",
     "text": [
      "5.0\n",
      "0.75\n"
     ]
    }
   ],
   "source": [
    "import math\n",
    "\n",
    "#point class to represent a point(x,y)\n",
    "class Point:\n",
    "    def __init__(self, x=0, y=0):\n",
    "        self.x = x  # X-coordinate\n",
    "        self.y = y  # Y-coordinate\n",
    "\n",
    "#segment class to represent a line segment between two points\n",
    "class Segment:\n",
    "    def __init__(self, p1, p2):\n",
    "        self.p1 = p1  # First endpoint of the segment\n",
    "        self.p2 = p2  # Second endpoint of the segment\n",
    "\n",
    "#function to calculate the length\n",
    "def length(p1, p2):\n",
    "    return math.sqrt((p2.x - p1.x) ** 2 + (p2.y - p1.y) ** 2)\n",
    "\n",
    "#function to calculate the slope \n",
    "def slope(p1, p2):\n",
    "    if p1.x == p2.x:  # Check for vertical line\n",
    "        return None  \n",
    "    return (p2.y - p1.y) / (p2.x - p1.x)\n",
    "\n",
    "#input points\n",
    "p1 = Point(4, 3)  \n",
    "p2 = Point(0, 0)  \n",
    "s = Segment(p1, p2)  # Create a segment between p1 and p2\n",
    "\n",
    "#calculate and print the length and slope of the segment\n",
    "print(length(s.p1, s.p2))  \n",
    "print(slope(s.p1, s.p2))   \n"
   ]
  }
 ],
 "metadata": {
  "kernelspec": {
   "display_name": "Python 3",
   "language": "python",
   "name": "python3"
  },
  "language_info": {
   "codemirror_mode": {
    "name": "ipython",
    "version": 3
   },
   "file_extension": ".py",
   "mimetype": "text/x-python",
   "name": "python",
   "nbconvert_exporter": "python",
   "pygments_lexer": "ipython3",
   "version": "3.8.3"
  }
 },
 "nbformat": 4,
 "nbformat_minor": 4
}
